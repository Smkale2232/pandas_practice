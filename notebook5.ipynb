{
 "cells": [
  {
   "cell_type": "code",
   "execution_count": 1,
   "metadata": {},
   "outputs": [],
   "source": [
    "# importing pandas package\n",
    "import pandas as pd"
   ]
  },
  {
   "cell_type": "code",
   "execution_count": 2,
   "metadata": {},
   "outputs": [],
   "source": [
    "# making data frame from csv file\n",
    "data = pd.read_csv(\"nba.csv\", index_col =\"Name\")"
   ]
  },
  {
   "cell_type": "code",
   "execution_count": 3,
   "metadata": {},
   "outputs": [],
   "source": [
    "# retrieving columns by indexing operator\n",
    "first = data[\"Age\"]"
   ]
  },
  {
   "cell_type": "code",
   "execution_count": 4,
   "metadata": {},
   "outputs": [
    {
     "name": "stdout",
     "output_type": "stream",
     "text": [
      "Name\n",
      "Avery Bradley    25.0\n",
      "Jae Crowder      25.0\n",
      "John Holland     27.0\n",
      "R.J. Hunter      22.0\n",
      "Jonas Jerebko    29.0\n",
      "                 ... \n",
      "Shelvin Mack     26.0\n",
      "Raul Neto        24.0\n",
      "Tibor Pleiss     26.0\n",
      "Jeff Withey      26.0\n",
      "NaN               NaN\n",
      "Name: Age, Length: 458, dtype: float64\n"
     ]
    }
   ],
   "source": [
    "print(first)"
   ]
  }
 ],
 "metadata": {
  "kernelspec": {
   "display_name": "Python 3",
   "language": "python",
   "name": "python3"
  },
  "language_info": {
   "codemirror_mode": {
    "name": "ipython",
    "version": 3
   },
   "file_extension": ".py",
   "mimetype": "text/x-python",
   "name": "python",
   "nbconvert_exporter": "python",
   "pygments_lexer": "ipython3",
   "version": "3.12.3"
  }
 },
 "nbformat": 4,
 "nbformat_minor": 2
}
